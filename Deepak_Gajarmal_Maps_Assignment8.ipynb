{
 "cells": [
  {
   "cell_type": "code",
   "execution_count": 2,
   "id": "1d812789",
   "metadata": {},
   "outputs": [],
   "source": [
    "import ipywidgets\n",
    "import pandas as pd\n",
    "import matplotlib.pyplot as plt\n",
    "import geopandas\n",
    "import numpy as np\n",
    "import contextily as ctx"
   ]
  },
  {
   "cell_type": "code",
   "execution_count": 3,
   "id": "8ed4194f",
   "metadata": {},
   "outputs": [],
   "source": [
    "chicago_data = geopandas.read_file(r'chicago-community-areas.geojson')\n",
    "chicago_data = chicago_data.to_crs(epsg=4326)\n",
    "bike_data = geopandas.read_file(r'https://raw.githubusercontent.com/Chicago/osd-bike-routes/master/data/Bikeroutes.geojson')"
   ]
  },
  {
   "cell_type": "code",
   "execution_count": 4,
   "id": "a40b4d29",
   "metadata": {},
   "outputs": [
    {
     "name": "stdout",
     "output_type": "stream",
     "text": [
      "                               STREET TYPE                    BIKEROUTE  \\\n",
      "0                     W FULLERTON AVE    4       RECOMMENDED BIKE ROUTE   \n",
      "1                     N LA CROSSE AVE    4       RECOMMENDED BIKE ROUTE   \n",
      "2     S DR MARTIN LUTHER KING JR DR W    1           EXISTING BIKE LANE   \n",
      "3                           W 51ST ST    4       RECOMMENDED BIKE ROUTE   \n",
      "4                           E 50TH ST    4       RECOMMENDED BIKE ROUTE   \n",
      "...                               ...  ...                          ...   \n",
      "1056                  W FULLERTON AVE    9  EXISTING BUFFERED BIKE LANE   \n",
      "1057                     S HALSTED ST    9  EXISTING BUFFERED BIKE LANE   \n",
      "1058                     N ELSTON AVE    9  EXISTING BUFFERED BIKE LANE   \n",
      "1059                     N ELSTON AVE    1           EXISTING BIKE LANE   \n",
      "1060                     N ELSTON AVE    1           EXISTING BIKE LANE   \n",
      "\n",
      "                             F_STREET                       T_STREET  \\\n",
      "0                         W GRAND AVE                    W GRAND AVE   \n",
      "1                         W GRAND AVE                    W GRAND AVE   \n",
      "2                           E 50TH ST                      E 51ST ST   \n",
      "3     S DR MARTIN LUTHER KING JR DR W            S COTTAGE GROVE AVE   \n",
      "4     S DR MARTIN LUTHER KING JR DR W  S DR MARTIN LUTHER KING JR DR   \n",
      "...                               ...                            ...   \n",
      "1056                     N RACINE AVE                N SHEFFIELD AVE   \n",
      "1057                        W 85TH ST                      W 75TH ST   \n",
      "1058                     N CICERO AVE                    N LYNCH AVE   \n",
      "1059                      N LYNCH AVE                W BRYN MAWR AVE   \n",
      "1060                    N KIMBALL AVE                N ST. LOUIS AVE   \n",
      "\n",
      "                                               geometry  \n",
      "0     MULTILINESTRING ((-87.78857 41.92365, -87.7886...  \n",
      "1     MULTILINESTRING ((-87.74816 41.91443, -87.7481...  \n",
      "2     MULTILINESTRING ((-87.61671 41.80392, -87.6167...  \n",
      "3     MULTILINESTRING ((-87.61663 41.80210, -87.6163...  \n",
      "4     MULTILINESTRING ((-87.61671 41.80392, -87.6164...  \n",
      "...                                                 ...  \n",
      "1056  MULTILINESTRING ((-87.65361 41.92538, -87.6536...  \n",
      "1057  MULTILINESTRING ((-87.64424 41.75838, -87.6442...  \n",
      "1058  MULTILINESTRING ((-87.74791 41.97288, -87.7479...  \n",
      "1059  MULTILINESTRING ((-87.76121 41.98106, -87.7613...  \n",
      "1060  MULTILINESTRING ((-87.71279 41.94933, -87.7133...  \n",
      "\n",
      "[1061 rows x 6 columns]\n"
     ]
    }
   ],
   "source": [
    "print(bike_data)"
   ]
  },
  {
   "cell_type": "code",
   "execution_count": 5,
   "id": "c0598610",
   "metadata": {},
   "outputs": [
    {
     "data": {
      "application/vnd.jupyter.widget-view+json": {
       "model_id": "368994ee571d4ba895e6dc2ff07d216c",
       "version_major": 2,
       "version_minor": 0
      },
      "text/plain": [
       "interactive(children=(Dropdown(description='community', options=('DOUGLAS', 'OAKLAND', 'FULLER PARK', 'GRAND B…"
      ]
     },
     "metadata": {},
     "output_type": "display_data"
    }
   ],
   "source": [
    "@ipywidgets.interact(community=chicago_data['community'].unique(), bike_route=bike_data['BIKEROUTE'].unique())\n",
    "#@ipywidgets.interact(building_type=apts['Building_Type'].unique())\n",
    "def make_geo_plot(community, bike_route):\n",
    "    community_subset = chicago_data.loc[chicago_data['community']==community]\n",
    "    area_subset = bike_data.loc[bike_data['BIKEROUTE']==bike_route]\n",
    "\n",
    "    fig, ax = plt.subplots(figsize=(10,10))\n",
    "    #ax.set_xlim(-88.245,-88.225)\n",
    "    #ax.set_ylim(40.10, 40.125)\n",
    "\n",
    "    chicago_data.plot(ax=ax, alpha=0.5, edgecolor='k')\n",
    "    community_subset.plot(column='community',ax=ax,cmap='OrRd',categorical=True, legend=True)\n",
    "    area_subset.plot(column='BIKEROUTE',ax=ax,cmap='rainbow',categorical=True, legend=True)\n",
    "    ctx.add_basemap(ax=ax,crs=chicago_data.crs)\n",
    "    plt.show()"
   ]
  },
  {
   "cell_type": "markdown",
   "id": "fc07df54",
   "metadata": {},
   "source": [
    "In this assignment to plot multiple layers I have imported 2 geojson datasets. I have used chicago community and chicago bike routes geojson datasets. \n",
    "Through this plot I want to visualize which comminity areas have what kind of bike routes available.\n",
    "For this graph I have used world geographic projection World Geodetic System 1984 which is also called as epsg:4326. It is a 2d cordinate projection\n",
    "Some of the interesting facts I found through this visualization is one can commute to most of the areas in chicago through bike but there arn't many dedicated bike routes present throughout the city and one has to share traffic lanes with regular traffic.\n",
    "This graph is very useful for the one who want to commute via bike on a daily basis for a work or for any other purpose. "
   ]
  }
 ],
 "metadata": {
  "kernelspec": {
   "display_name": "Python 3 (ipykernel)",
   "language": "python",
   "name": "python3"
  },
  "language_info": {
   "codemirror_mode": {
    "name": "ipython",
    "version": 3
   },
   "file_extension": ".py",
   "mimetype": "text/x-python",
   "name": "python",
   "nbconvert_exporter": "python",
   "pygments_lexer": "ipython3",
   "version": "3.7.12"
  }
 },
 "nbformat": 4,
 "nbformat_minor": 5
}
